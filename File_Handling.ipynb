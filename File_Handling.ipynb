{
 "cells": [
  {
   "cell_type": "markdown",
   "id": "45e418fc-2aae-4c06-b885-ea6a43dff316",
   "metadata": {
    "jp-MarkdownHeadingCollapsed": true
   },
   "source": [
    "#Files, exceptional handling, logging and memory management\n",
    "------"
   ]
  },
  {
   "cell_type": "markdown",
   "id": "37b356e7-5cb3-46ae-b92c-8da2f0462f88",
   "metadata": {},
   "source": [
    "**1. What is the difference between interpreted and compiled languages?**\n",
    "- **Interpreted Language** execution happens line by line during runtime.\n",
    "- Platform independent\n",
    "- It is easier to debug.\n",
    "- Slower execution time as compare to the compiled language.\n",
    "- They have quicker development life cycle due to no need of compilation.\n",
    "- **Compiled Language** translate source code into the machine code before execution.\n",
    "- Faster execution time than Interpreted language.\n",
    "- Platform dependent i.e. need recompilation before running on different platforms.\n",
    "- Harder to debug because you have to recompile after changes."
   ]
  },
  {
   "cell_type": "markdown",
   "id": "9384e5ad-cc6a-473a-95c3-3b0140d55d64",
   "metadata": {},
   "source": [
    "**2. What is exception handling in Python?** \n",
    "- Exception is a way of handling errors that occurs during runtime ending in crashing the program. With exception handling we can catch errors and provide a meaningful message.This is done with the help of try and except block.\n",
    "- try block consists of code that might have erros can cause exception.\n",
    "- exception part handles the exception if it happens.\n",
    "- else block executes the code in  try block if no exception occurs.\n",
    "- finally block always get executed whether exception occurs or not."
   ]
  },
  {
   "cell_type": "markdown",
   "id": "e55142f6-ec24-417c-9c74-9b07be7d4a80",
   "metadata": {},
   "source": [
    "**3. What is the purpose of the finally block in exception handling?** \n",
    "- Finally block purpose is to always get executed whether exception occurs or not.It is used for resources cleanup. It gets executed even before return,break and continue statement in try and except block.It provides guarantee that certain operation always get executed improving robustness and maintainability of the code."
   ]
  },
  {
   "cell_type": "markdown",
   "id": "903ea2d4-c9ca-4feb-962a-c3a10fe0eaf1",
   "metadata": {},
   "source": [
    "**4. What is logging in Python?** \n",
    "- Logging in python is a built in module that helps developers to track the events that occurs during the execution of the program.It is more flexible approach than print statement for debugging and monitoring.Logging helps you to record messages to get insights about the flow of program,warnings and errors.\n",
    "- **Key Components of the logging are:**\n",
    "- **DEBUG:** This provide detailed information about the debugging purposes.\n",
    "- **INFO:** This provide general information about the program execution.\n",
    "- **WARNING:** indicates about the potential issue that might not stop the program.\n",
    "- **ERROR:** indicates about the more serious problem that prevents part of the program from functioning.\n",
    "- **CRITICAL:** indicates about the severe error that may prevent the program from continuing."
   ]
  },
  {
   "cell_type": "markdown",
   "id": "298efa1c-de66-4519-b2e6-c7bd329e8c0c",
   "metadata": {},
   "source": [
    "**5. What is the significance of the __del__ method in Python?** \n",
    "- __del__ method is a destructor method that is invoked automatically when an object is about to be deleted or garbage collected.It's purpose is to clean up the resources before an object is deleted.It act like a clean up method for objects."
   ]
  },
  {
   "cell_type": "markdown",
   "id": "ebe4be27-2a79-4906-a4f4-265b1d5815cc",
   "metadata": {},
   "source": [
    "**6. What is the difference between import and from ... import in Python?** \n",
    "- **Import:** in python  imports the entire module and you need to use module name as prefix to access it's contents.\n",
    "- **from ... import:** in python import only specific objects from the module rather than uploading entire module. It doesn't  require to use module name as prefix,you can use it's content directly."
   ]
  },
  {
   "cell_type": "markdown",
   "id": "baa18ae4-758f-42d3-b34a-d14e8c9aa8ab",
   "metadata": {},
   "source": [
    "**7. How can you handle multiple exceptions in Python?** \n",
    "- We can Handle multiple exceptions by using multiple except block .Each except block will handle a specific exceptions.\n",
    "- We can catch multiple exceptions  in single except by putting them in parenthesis ().\n",
    "- Or we can just handle them with generic try and except.It catches all the exception."
   ]
  },
  {
   "cell_type": "markdown",
   "id": "97361d44-0453-42c5-81f2-afc31a5cb70a",
   "metadata": {},
   "source": [
    "**8. What is the purpose of the with statement when handling files in Python?** \n",
    "- The purpose of with statement while handling files in python is to simplify file management and ensuring that files are closing automatically even if an exception occurs.This method of automatically closing files make  file handling simpler, reliable and safer."
   ]
  },
  {
   "cell_type": "markdown",
   "id": "70ab9e2b-ae9b-41f7-9bf2-5e3ca0f034ac",
   "metadata": {},
   "source": [
    "**9. What is the difference between multithreading and multiprocessing?** \n",
    "- **Multithreading:**\n",
    "- It uses multiple threads in a single process.\n",
    "- All the threads share same resouces and memory space.\n",
    "- Ideal for fileI/O tasks bound tasks.\n",
    "- Since all the threads share same memory space so race conditions might occurs so thread  needs to be properly synchronized.\n",
    "- Perfomance is limited by GIL(GLOABAL INTERPRETER LOCK). Only one thread can run python code at a time.\n",
    "- Scalable for I/O bound tasks.\n",
    "- Error in one thread can affect other threads since they share common memory space.\n",
    "- **Multiprocessing:**\n",
    "- It uses multiple processes each with its own resources and memory space.\n",
    "- Ideal for CPU bound tasks where parallel computation needed.\n",
    "- Performance is limited by the number of cores and resources.\n",
    "- Complex due to shared memory spaces. \n",
    "- Scalable for CPU bound tasks.\n",
    "-  Error in one process can not affect other process since all have seperate memory space."
   ]
  },
  {
   "cell_type": "markdown",
   "id": "74ab683a-dfb9-4b6d-b42d-82a0ff73801f",
   "metadata": {},
   "source": [
    "**10. What are the advantages of using logging in a program?** \n",
    "- Logging provides detailed information about the execution of the programs making it easier to identify and debug issues.\n",
    "- Logging allows you to categorize your message based of severity level(DEBUG,INFO,WARNING,ERROR,CRITICAL)\n",
    "- Logs can be directed to different outputs such as consoles,files and external services.\n",
    "- Logs allows you to format logging messages with timestamps and log levels making it easier to analyze.\n",
    "- Logging  provides the historical record of errors and events which is useful for diagnosing issues in production environments.\n",
    "- Logs can be used to monitor health and performance of application.\n",
    "- You can configure logging behaviour at runtime without modifying the code.\n",
    "- Logging can be integrated with alarming and monitoring tool for real time analysis and notifications."
   ]
  },
  {
   "cell_type": "markdown",
   "id": "23f0ef23-950e-4292-9138-a87ad913bed8",
   "metadata": {},
   "source": [
    "**11. What is memory management in Python?** \n",
    "- Memory management in python refers to how python allocates,uses and clears up memory while running a program.It helps program to use memory efficiently, without wasting resources and clearing memory leaks.\n",
    "- **Key components of Memory Management**\n",
    "- **Automatic memory location:** Python automatically allocates the memory location to the variables, objects and data structure\n",
    "- **Garbage Collection:** Python automatically free the location when object is no longer needed.It is done so by keeping count of refrence count to the object.When refrence count drops to zero.It is deallocated. \n",
    "- **Garbage Collector:** The python has a gc module to find and clean unused space, specially incase where refrence cycle exists.\n",
    "- **Refrence Count:** Every object has a refrence count.When it drops to zero.Python knows it is safe to delete the object.\n",
    "- **Private Heap:** Every object and data structure in python are stored in private heap.The python memory manager handles this private heap, allocating space to the objects and releasing it when no longer needed."
   ]
  },
  {
   "cell_type": "markdown",
   "id": "5c0013fa-659a-4bea-8619-953d6bde2aa0",
   "metadata": {},
   "source": [
    "**12. What are the basic steps involved in exception handling in Python?** \n",
    "- **Try:** The code that might raise exception is enclosed in this.\n",
    "- **Except:** If error occurs then python directly jump to the except block to handle the error.\n",
    "- **else:** If there's  no exception in try block then this block get executed.\n",
    "- **finally:** This block always get executed.It is usually used to release resources like closing files and database connections. "
   ]
  },
  {
   "cell_type": "markdown",
   "id": "c4d84d28-d43d-45ac-9f52-0fd6a5f1f736",
   "metadata": {},
   "source": [
    "**13. Why is memory management important in Python?** \n",
    "- **Efficient memory utilization:** Memory is a limited resource.Efficient memory management  ensures python program to use only required amount of memory and release it when not needed.This helps in maintaining system stability and improving performance.\n",
    "- **Prevention of memory leaks:** In python garbage collector automatically find and clean unused space when object is no longer needed.Preventing memory leaks and ensuring optimal use of memory.\n",
    "- **Automatic Garbage Collection:** Python automatically free the location when object is no longer in use.\n",
    "- **Increased system performance:** By freeing  unused memory space,python reduces strain on memory resources resulting in faster program execution.\n",
    "- **Scalable:** Good memory management make python program more scalable. "
   ]
  },
  {
   "cell_type": "markdown",
   "id": "f71b1817-7ae8-4c5a-a12b-11d3963ac20c",
   "metadata": {},
   "source": [
    "**14. What is the role of try and except in exception handling?** \n",
    "- try and except block are essential part of exception handling.\n",
    "- **try:** it test the code for possible error.\n",
    "- **except:** this block catch and handle the exception.It prevents program from crashing and allows you to define what happens next. "
   ]
  },
  {
   "cell_type": "markdown",
   "id": "b83619e0-6835-45b7-9eb8-2d05054835c4",
   "metadata": {},
   "source": [
    "**15. How does Python's garbage collection system work?** \n",
    "- Python Garbage collection system works automatically by identifying and  deleting objects that are no longer needed .This is done by refrence counting."
   ]
  },
  {
   "cell_type": "markdown",
   "id": "15faa387-3c7a-4000-9126-66d4b3936afe",
   "metadata": {},
   "source": [
    "**16. What is the purpose of the else block in exception handling?** \n",
    "- The else block in exception handling get executed when there's no exception in in try block.It is use to define a block of code that is execute when the try block doesn't raise an error."
   ]
  },
  {
   "cell_type": "markdown",
   "id": "a2587653-cf7e-4ff9-81c1-e3ffe57267c1",
   "metadata": {},
   "source": [
    "**17. What are the common logging levels in Python?** \n",
    "- **DEBUG:** provide detailed info about the debugging purposes.\n",
    "- **INFO:** provide general information about program execution.\n",
    "- **WARNING:** indicates the potential issue that might not stop the program.\n",
    "- **ERROR:** indicates some serious issue that prevents part of program from functioning.\n",
    "- **CRITICAL:** some severe issue that may prevent program from functioning."
   ]
  },
  {
   "cell_type": "markdown",
   "id": "327fe28d-fa98-4f6f-ab2c-f16ea5c8cc04",
   "metadata": {},
   "source": [
    "**18.  What is the difference between os.fork() and multiprocessing in Python?** \n",
    "- **os.fork():** is a low level system call that works by creating a new child process by duplicating parent process.\n",
    "-  It is available for unix system and not supported by windows system.\n",
    "-  By calling os.fork() both processes run independently.\n",
    "-  Both parent and child process have seperate memory space and there is no shared  memory between them.\n",
    "-  Any communication between child and parent process must be done manually with the help of pipe and sockets,\n",
    "-  Programmer need to handle process control and  communication explicitly.\n",
    "-  **Multiprocessing:** module is a high level python module designed to create and manage seperate process independently.\n",
    "-  It is cross platform, it can work both on unix and windows system.\n",
    "-  It provides easy to use process class to create and control processes.These processes can be started, joined and terminated with simple method calls.\n",
    "-  The multiprocessing tool include built in communication tools such as Queue, pipes.\n",
    "-  It simplifies data sharing and inter process communication.\n",
    "-  Multiprocessing is often used for parallel  execution of tasks,taking advantage of multiple cores of cpu to improve performance of cpu bound operations.  "
   ]
  },
  {
   "cell_type": "markdown",
   "id": "0a654b09-9481-4ad8-b60b-7f847269b5f1",
   "metadata": {},
   "source": [
    "**19. What is the importance of closing a file in Python?** \n",
    "- **Resources Management:** Preventsd resources leaks by freeing up file descriptors and memory,ensuring efficient use of the system resources.\n",
    "- **Data Integrity:** Proper closing file ensures data integrity and prevents data loss and corruption if program crashes.\n",
    "- **File Locking:** Closing a file removes file lock, making it accesible for other processes of a file.\n",
    "- Improves code readability and maintainability.\n",
    "- Python provides with statement which automatically closes the file even if an error occurs."
   ]
  },
  {
   "cell_type": "markdown",
   "id": "3648b51e-0b80-4041-a195-676241c5028c",
   "metadata": {},
   "source": [
    "**20. What is the difference between file.read() and file.readline() in Python?** \n",
    "- **file.read():** is the method that reads entire content of the file.\n",
    "- It return single string for text file or bytes for binary files.\n",
    "- If no argument is passed, it reade through the current pointer till the end of the file.\n",
    "- If a number is passed file.read(10). It will read up to 10 characters from the current position.\n",
    "- It is suitable for small files sinces it loads all the content into the memory,leading to high memory usage.\n",
    "- **file.readline():**  reads  one line at a time from file.\n",
    "- It return line as a string including newline character unles it's a last line.\n",
    "- It is suitable for large file  since it loads content line by line , leading to efficient memory usage.\n",
    "- Each time file.readline() is called, it advances pointer to the next line. "
   ]
  },
  {
   "cell_type": "markdown",
   "id": "b785754f-6344-4fac-808d-ed62d29761e8",
   "metadata": {},
   "source": [
    "**21. What is the logging module in Python used for?** \n",
    "- The logging module in python is essential tool for monitoring, debugging and maintaining software application.It provides an efficient and flexible way for program execution,handle errors and track events."
   ]
  },
  {
   "cell_type": "markdown",
   "id": "0e26b71b-0758-458b-aa90-9af619f3de83",
   "metadata": {},
   "source": [
    "**22. What is the os module in Python used for in file handling?** \n",
    "- The os module in python plays a essential role in file handling by providing functions like create, delete, rename and navigate through directories.It allows python program to interact directly with the operating system,making it essential for file automatic file management tasks and building robust applications."
   ]
  },
  {
   "cell_type": "markdown",
   "id": "bb04b409-ad66-4875-a1aa-07be08f5ff02",
   "metadata": {},
   "source": [
    "**23. What are the challenges associated with memory management in Python?** \n",
    "- Python uses refrence count to manage memory but if two objects refrence each other then these can remain in memory even if they are not accessible.Python garbage collector tries to handle these cycles but it adds up the complexity and  overhead.\n",
    "- Python runs garbage collector periodically to clean up unused objects.During Garbage collection python may pause execution which can impact performance specially in application where real time processing is required.\n",
    "- Python is dynamically types language which means variable types are determined during runtime.As a result python consumes more memory space than statically types languages.\n",
    "- Fragmentation can lead to inefficient use of memory.causing increased memory consumption over time specially in long running processes.\n",
    "- Unlike lower level languages, developers in python have limited control over the memory allocation and deallocation.This abstraction makes it harder to optimise memory in memory intensive application.\n",
    "- Python GIL(GLOBAL INTERPRETER LOCK)  ensures that only one thread can access python code at a time. It simplifies the memory management but it limits the parallel thread execution which can hinder the performance of multi threaded application.\n",
    "- If python code uses third party C extension or libraries that manage their own memory,bugs in these libraries can cause memory leaks.\n",
    "- Using caching mechanisms without proper expiration or invalidation policies can lead to unnecessary memory retention.\n",
    "- Cached objects that are no longer needed can cause memory leaks.   "
   ]
  },
  {
   "cell_type": "markdown",
   "id": "1b89141b-909a-4d4f-acd9-48bc5b3829ef",
   "metadata": {},
   "source": [
    "**24.  How do you raise an exception manually in Python?** \n",
    "- age= -5\n",
    "- if age < 0: \n",
    "-       raise ValueError(\"Age can not be less than zero\")"
   ]
  },
  {
   "cell_type": "markdown",
   "id": "5eb30d11-4589-4452-b895-85652a01eb75",
   "metadata": {},
   "source": [
    "**25. Why is it important to use multithreading in certain applications?** \n",
    "- It is used Graphical User Interface to keep interface responsive.while one thread handles the user interface,other thread can be used for time consuming tasks such as file downloads or data processing.\n",
    "- It is efficient for handling I/O bound tasks.\n",
    "- When application needs to perform multiple independent task.Multithreading can be useful becaus it will significantly reduce time unlike running them sequentially.\n",
    "-  Threads in a process shares common memory space  which makes communication between threads easier and faster.\n",
    "-  In application like video games and simulation, multithreading helps in handling multiple tasks such as user input, rendering graphics and processing game logic at same time."
   ]
  },
  {
   "cell_type": "markdown",
   "id": "0822aa0e-f2a1-4af6-aafc-16301b8f01f6",
   "metadata": {
    "jp-MarkdownHeadingCollapsed": true
   },
   "source": [
    "#Practical  Questions  \n",
    "--"
   ]
  },
  {
   "cell_type": "code",
   "execution_count": 2,
   "id": "2bd807c0-dcff-47b9-b269-6a474d589770",
   "metadata": {},
   "outputs": [],
   "source": [
    "#1. How can you open a file for writing in Python and write a string to it? \n",
    "with open (\"example.txt\",\"w\") as file: \n",
    "    file.write(\"HI, I am Rupesh\")"
   ]
  },
  {
   "cell_type": "code",
   "execution_count": 4,
   "id": "f3f87024-b2ac-46e6-b9cc-f09150931829",
   "metadata": {},
   "outputs": [
    {
     "name": "stdout",
     "output_type": "stream",
     "text": [
      "HI, I am Rupesh"
     ]
    }
   ],
   "source": [
    "#2. Write a Python program to read the contents of a file and print each line. \n",
    "with open (\"example.txt\",\"r\") as file: \n",
    "    lines = file.readlines()\n",
    "    for line in lines: \n",
    "        print(line, end=\"\")"
   ]
  },
  {
   "cell_type": "code",
   "execution_count": 6,
   "id": "8e114bb3-900e-4b3e-bb19-f17a7bed80c9",
   "metadata": {},
   "outputs": [
    {
     "name": "stdout",
     "output_type": "stream",
     "text": [
      "Error: The file does not exist\n"
     ]
    }
   ],
   "source": [
    "#3. How would you handle a case where the file doesn't exist while trying to open it for reading. \n",
    "try:\n",
    "    with open ('bokachika.txt','r') as file:\n",
    "        for line in file:\n",
    "            print(line, end=\"\")\n",
    "except FileNotFoundError : \n",
    "    print(\"Error: The file does not exist\")"
   ]
  },
  {
   "cell_type": "code",
   "execution_count": 8,
   "id": "5535f0ab-d17e-4709-8354-73dcd88874c8",
   "metadata": {},
   "outputs": [],
   "source": [
    "#4. Write a Python script that reads from one file and writes its content to another file. \n",
    "with open (\"example.txt\",\"r\") as source_file, open (\"useless.txt\",\"w\") as destination_file: \n",
    "    for line in source_file: \n",
    "        destination_file.write(line)"
   ]
  },
  {
   "cell_type": "code",
   "execution_count": 10,
   "id": "28bbcc95-e926-49b5-afd1-a5890d9d969d",
   "metadata": {},
   "outputs": [
    {
     "name": "stdout",
     "output_type": "stream",
     "text": [
      "Error: Can't be divided by zero\n"
     ]
    }
   ],
   "source": [
    "#5.  How would you catch and handle division by zero error in Python. \n",
    "try: \n",
    "    nomad = 5/0\n",
    "except ZeroDivisionError:\n",
    "    print(\"Error: Can't be divided by zero\")   "
   ]
  },
  {
   "cell_type": "code",
   "execution_count": 12,
   "id": "42c3450e-8a4a-4bb3-86c4-745a2f240baf",
   "metadata": {},
   "outputs": [],
   "source": [
    "#6. Write a Python program that logs an error message to a log file when a division by zero exception occurs. \n",
    "import logging \n",
    "logging.basicConfig(\n",
    "    filename= 'error.log', \n",
    "    level = logging.ERROR,  \n",
    "    format= '%(asctime)s - %(levelname)s - %(message)s'\n",
    ")\n",
    "try: \n",
    "    result = 5/0 \n",
    "except ZeroDivisionError as e:\n",
    "    logging.error(\"The Zero division error occured: %s\",e)"
   ]
  },
  {
   "cell_type": "code",
   "execution_count": 14,
   "id": "114469c4-aab6-434c-8140-600ab18e4189",
   "metadata": {},
   "outputs": [],
   "source": [
    "#7. How do you log information at different levels (INFO, ERROR, WARNING) in Python using the logging module. \n",
    "import logging\n",
    "logging.basicConfig(\n",
    "    filename = 'app.log',\n",
    "    level = logging.DEBUG,\n",
    "    format = '%(asctime)s - %(levelname)s - %(message)s'    \n",
    ")\n",
    "logging.debug(\"This is debug msg\")\n",
    "logging.info(\"This is info\")\n",
    "logging.warning(\"This is warning\")\n",
    "logging.error(\"This is error\")\n",
    "logging.critical(\"This is critical\")"
   ]
  },
  {
   "cell_type": "code",
   "execution_count": 16,
   "id": "f9552d4d-caf3-4b74-8c7a-25deae980c08",
   "metadata": {},
   "outputs": [
    {
     "name": "stdout",
     "output_type": "stream",
     "text": [
      "The file was not found\n"
     ]
    }
   ],
   "source": [
    "#8. Write a program to handle a file opening error using exception handling. \n",
    "try:\n",
    "    with open(\"baggadbilla.txt\",\"r\") as file: \n",
    "        content = file.read() \n",
    "        print(content)\n",
    "except FileNotFoundError:\n",
    "    print(\"The file was not found\")\n",
    "except IOError: \n",
    "    print(\"Some I/O bound error occured\")"
   ]
  },
  {
   "cell_type": "code",
   "execution_count": 18,
   "id": "738f74e0-b010-4cdf-bfe6-6ef20f6e426d",
   "metadata": {},
   "outputs": [
    {
     "name": "stdout",
     "output_type": "stream",
     "text": [
      "['HI, I am Rupesh']\n"
     ]
    }
   ],
   "source": [
    "#9. How can you read a file line by line and store its content in a list in Python\n",
    "with open (\"example.txt\",\"r\") as file: \n",
    "    line = file.readlines()\n",
    "print(line)"
   ]
  },
  {
   "cell_type": "code",
   "execution_count": 23,
   "id": "1c54fd5c-d3f1-4b85-a157-2becedf9b477",
   "metadata": {},
   "outputs": [],
   "source": [
    "#10. How can you append data to an existing file in Python. \n",
    "with open (\"example.txt\",\"a\") as file:\n",
    "    file.write(\"\\nThis line is now appended\") "
   ]
  },
  {
   "cell_type": "code",
   "execution_count": 42,
   "id": "fc221598-7efe-42da-9f03-882f5ccd33ca",
   "metadata": {},
   "outputs": [
    {
     "name": "stdout",
     "output_type": "stream",
     "text": [
      "The key doesn't exist: 'details'\n"
     ]
    }
   ],
   "source": [
    "#11. Write a Python program that uses a try-except block to handle an error when attempting to access a dictionary key that doesn't exist. \n",
    "try: \n",
    "    a_dict = {\"Name\": \"Rupesh\"}\n",
    "    print(a_dict[\"details\"])\n",
    "except KeyError as e :\n",
    "    print(f\"The key doesn't exist: {e}\")"
   ]
  },
  {
   "cell_type": "code",
   "execution_count": 29,
   "id": "6be5a174-8004-4bfe-9c57-261c2ee8a6c7",
   "metadata": {},
   "outputs": [
    {
     "name": "stdin",
     "output_type": "stream",
     "text": [
      "enter a no:  5\n",
      "enter another no:  0\n"
     ]
    },
    {
     "name": "stdout",
     "output_type": "stream",
     "text": [
      "Zero division error occured.\n"
     ]
    }
   ],
   "source": [
    "#12. Write a program that demonstrates using multiple except blocks to handle different types of exceptions \n",
    "try: \n",
    "    num1 = int(input(\"enter a no: \"))\n",
    "    num2 = int(input(\"enter another no: \")) \n",
    "    result = num1/ num2 \n",
    "    print(f\"Result: {result}\")\n",
    "    my_list = [1,2,3]\n",
    "    print(my_list[5])\n",
    "except ValueError: \n",
    "    print(\"Error invalid output\")\n",
    "\n",
    "except ZeroDivisionError: \n",
    "    print(\"Zero division error occured.\")\n",
    "except IndexError: \n",
    "    print(\"Index out of range\")\n",
    "except Exception as e:\n",
    "    print(f\"The unexpected error occured\")"
   ]
  },
  {
   "cell_type": "code",
   "execution_count": 31,
   "id": "a2e14aa6-5d8c-4945-ade6-0991035136b3",
   "metadata": {},
   "outputs": [
    {
     "name": "stdout",
     "output_type": "stream",
     "text": [
      "HI, I am RupeshThis line is now appended\n",
      "This line is now appended\n"
     ]
    }
   ],
   "source": [
    "#13. How would you check if a file exists before attempting to read it in Python. \n",
    "from pathlib import Path \n",
    "\n",
    "file_path = Path(\"example.txt\")\n",
    "\n",
    "if file_path.exists(): \n",
    "    with file_path.open('r') as file: \n",
    "        content = file.read() \n",
    "        print(content)\n",
    "else: \n",
    "    print(\"File doesn't exist\")"
   ]
  },
  {
   "cell_type": "code",
   "execution_count": 2,
   "id": "3cfac10e-953b-4020-92a6-baaf104a7d83",
   "metadata": {},
   "outputs": [],
   "source": [
    "#14. Write a program that uses the logging module to log both informational and error messages. \n",
    "import logging \n",
    "\n",
    "logging.basicConfig(\n",
    "    filename= (\"newapp.log\"),\n",
    "    level = logging.DEBUG, \n",
    "    format = \"%(asctime)s - %(levelname)s - %(message)s\"\n",
    ")\n",
    "\n",
    "logging.info(\"The program has begun\")\n",
    "try: \n",
    "    result = 5/0 \n",
    "    print(result)\n",
    "except ZeroDivisionError as e: \n",
    "    logging.error(f\"The error occured:{e}\")\n",
    "    logging.exception(\"Exception details:\")\n",
    "logging.info(\"The program has been completed\")"
   ]
  },
  {
   "cell_type": "code",
   "execution_count": 6,
   "id": "51c43e10-f510-41f9-9ef7-3ba365c150be",
   "metadata": {},
   "outputs": [
    {
     "name": "stdout",
     "output_type": "stream",
     "text": [
      "The content of example.txt: \n",
      "HI, I am RupeshThis line is now appended\n",
      "This line is now appended\n"
     ]
    }
   ],
   "source": [
    "#15. Write a Python program that prints the content of a file and handles the case when the file is empty. \n",
    "def print_file(filename): \n",
    "    try: \n",
    "        with open (filename,'r') as file:\n",
    "            content = file.read() \n",
    "            if not content: \n",
    "                print(f\" The file is empty\")\n",
    "            else: \n",
    "                print(f\"The content of {filename}: \\n{content}\")\n",
    "    except FileNotFoundError : \n",
    "        print(f\"The file {filename} not found\")\n",
    "    except exception as e: \n",
    "        print(f\"An unexpected error has occured: {e}\")\n",
    "print_file('example.txt')"
   ]
  },
  {
   "cell_type": "code",
   "execution_count": 12,
   "id": "45825368-2f2b-40a6-a27c-97ad05a842e4",
   "metadata": {},
   "outputs": [
    {
     "name": "stdout",
     "output_type": "stream",
     "text": [
      "Collecting memory-profiler\n",
      "  Downloading memory_profiler-0.61.0-py3-none-any.whl.metadata (20 kB)\n",
      "Requirement already satisfied: psutil in d:\\anaconda\\lib\\site-packages (from memory-profiler) (5.9.0)\n",
      "Downloading memory_profiler-0.61.0-py3-none-any.whl (31 kB)\n",
      "Installing collected packages: memory-profiler\n",
      "Successfully installed memory-profiler-0.61.0\n"
     ]
    }
   ],
   "source": [
    "!pip install memory-profiler\n"
   ]
  },
  {
   "cell_type": "code",
   "execution_count": 2,
   "id": "cdf65ea6-b488-46a3-8899-23b2d1df965b",
   "metadata": {},
   "outputs": [],
   "source": [
    "#16. Demonstrate how to use memory profiling to check the memory usage of a small program. \n",
    "%load_ext memory_profiler "
   ]
  },
  {
   "cell_type": "code",
   "execution_count": 4,
   "id": "bb619fcc-f386-4e9a-8598-278852ed6dd2",
   "metadata": {},
   "outputs": [],
   "source": [
    "def my_func(): \n",
    "    a = [1] * (10**6)\n",
    "    b = [2] * (2* 10**7)\n",
    "    del b \n",
    "    return a"
   ]
  },
  {
   "cell_type": "code",
   "execution_count": 6,
   "id": "5beaffae-df91-44c5-8c87-499b68a0cb23",
   "metadata": {},
   "outputs": [
    {
     "name": "stdout",
     "output_type": "stream",
     "text": [
      "peak memory: 315.30 MiB, increment: 160.23 MiB\n"
     ]
    }
   ],
   "source": [
    "%memit my_func()"
   ]
  },
  {
   "cell_type": "code",
   "execution_count": 19,
   "id": "766d0b89-3153-4ddc-a0ea-cb0f2b3b1cc7",
   "metadata": {},
   "outputs": [
    {
     "name": "stdout",
     "output_type": "stream",
     "text": [
      "Numbers have been written to the Number.txt\n"
     ]
    }
   ],
   "source": [
    "#17. Write a Python program to create and write a list of numbers to a file, one number per line. \n",
    "numbers = [i for i in range(1,11)]\n",
    "with open(\"Number.txt\",\"w\") as file: \n",
    "    for num in numbers: \n",
    "        file.write(f\"{num}\\n\") \n",
    "print(f\"Numbers have been written to the Number.txt\")"
   ]
  },
  {
   "cell_type": "code",
   "execution_count": 10,
   "id": "54b58696-1fc7-4854-926d-0e5a0e6b0dd8",
   "metadata": {},
   "outputs": [
    {
     "name": "stdout",
     "output_type": "stream",
     "text": [
      "Logs are being written with rotation after 1MB\n"
     ]
    }
   ],
   "source": [
    "#18. How would you implement a basic logging setup that logs to a file with rotation after 1MB. \n",
    "import logging\n",
    "from logging.handlers import RotatingFileHandler \n",
    "\n",
    "logger = logging.getLogger(\"MyLogger\")\n",
    "logger.setLevel(logging.DEBUG)\n",
    "handler = RotatingFileHandler(\n",
    "    \"Rotate_handler.log\",\n",
    "    maxBytes = 1*1024*1024, \n",
    "    backupCount=3,\n",
    "    delay = True\n",
    ")\n",
    "formatter = logging.Formatter('%(asctime)s - %(levelname)s - %(message)s')\n",
    "handler.setFormatter(formatter)\n",
    "\n",
    "logger.addHandler(handler)\n",
    "\n",
    "try:\n",
    "    for i in range(10000): \n",
    "        logger.debug(f\"This is debug log number {i}\")\n",
    "        logger.info(f\"This is info log number {i}\")\n",
    "        logger.error(f\"This is error log number {i}\") \n",
    "finally: \n",
    "    logger.removeHandler(handler)\n",
    "    handler.close()\n",
    "print(\"Logs are being written with rotation after 1MB\") "
   ]
  },
  {
   "cell_type": "code",
   "execution_count": 15,
   "id": "e929a47e-e3aa-48dd-9052-ca3675f513a9",
   "metadata": {},
   "outputs": [
    {
     "name": "stdout",
     "output_type": "stream",
     "text": [
      "Error occured: list index out of range\n",
      "Execution completed\n"
     ]
    }
   ],
   "source": [
    "#19. Write a program that handles both IndexError and KeyError using a try-except block. \n",
    "my_list = [1,2,3]\n",
    "my_dict = {\"Name\": \"Rupesh\",\"Gaanv\": \"Galma\"}\n",
    "try: \n",
    "    print(f\"List item at index 5: {my_list[5]} \\ndictionary item for key Seher: {my_dict}\")\n",
    "except(KeyError, IndexError) as e: \n",
    "    print(f\"Error occured: {e}\")\n",
    "finally: \n",
    "    print(\"Execution completed\")"
   ]
  },
  {
   "cell_type": "code",
   "execution_count": 20,
   "id": "64b21ebc-6502-403d-9788-a3b707554be5",
   "metadata": {},
   "outputs": [
    {
     "name": "stdout",
     "output_type": "stream",
     "text": [
      "HI, I am RupeshThis line is now appended\n",
      "This line is now appended\n"
     ]
    }
   ],
   "source": [
    "#20. How would you open a file and read its contents using a context manager in Python. \n",
    "with open (\"example.txt\",\"r\") as file:\n",
    "    print(file.read())"
   ]
  },
  {
   "cell_type": "code",
   "execution_count": 28,
   "id": "cc3d53de-1a6c-43dc-afed-b4a300d6b707",
   "metadata": {},
   "outputs": [
    {
     "name": "stdout",
     "output_type": "stream",
     "text": [
      "The word is  occurs 4 time in this file\n"
     ]
    }
   ],
   "source": [
    "#21. Write a Python program that reads a file and prints the number of occurrences of a specific word. \n",
    "def word_counts(filename,target_word):\n",
    "    try: \n",
    "        with open(\"example.txt\",\"r\",encoding=\"utf-8\") as file:\n",
    "            content = file.read() \n",
    "            word_count = content.lower().count(target_word.lower())\n",
    "            print(f\"The word {target_word}  occurs {word_count} time in this file\")\n",
    "    except FileNotFoundError: \n",
    "        print(f\"{filename} file doesn't exist\")\n",
    "    except exception as e: \n",
    "        print(f\"Unexpected error occurred: {e}\")\n",
    "\n",
    "word_counts(\"example.txt\", 'is')\n",
    "    "
   ]
  },
  {
   "cell_type": "code",
   "execution_count": 39,
   "id": "854389e0-cd25-48ad-a055-ea594e0d5c0d",
   "metadata": {},
   "outputs": [
    {
     "name": "stdout",
     "output_type": "stream",
     "text": [
      "1\n",
      "2\n",
      "3\n",
      "4\n",
      "5\n",
      "6\n",
      "7\n",
      "8\n",
      "9\n",
      "10\n",
      "\n"
     ]
    }
   ],
   "source": [
    "#22. How can you check if a file is empty before attempting to read its contents. \n",
    "import os\n",
    "\n",
    "file_name = \"Number.txt\"\n",
    "\n",
    "if os.path.getsize(file_name) == 0: \n",
    "    print(\"File is empty\")\n",
    "else: \n",
    "    with open(\"Number.txt\",\"r\") as file: \n",
    "        print(file.read())\n",
    "\n"
   ]
  },
  {
   "cell_type": "code",
   "execution_count": 43,
   "id": "048f9df0-c9d9-4986-9343-b3df916e856c",
   "metadata": {},
   "outputs": [
    {
     "name": "stdout",
     "output_type": "stream",
     "text": [
      "An error occured please check file_error.log for details\n"
     ]
    }
   ],
   "source": [
    "#23. Write a Python program that writes to a log file when an error occurs during file handling.\n",
    "import logging\n",
    "\n",
    "logging.basicConfig(\n",
    "    filename= \"File_error.log\",\n",
    "    level =logging.DEBUG,\n",
    "    format=\"%(asctime)s - %(levelname)s - %(message)s\"\n",
    ")\n",
    "\n",
    "def read_file(file_name): \n",
    "    try: \n",
    "        with open(file_name, \"r\",encoding=\"utf-8\") as file:\n",
    "            print(f\"File contents: \\n{filel.read()}\")\n",
    "    except Exception as e:\n",
    "        logging.error(f\"An error occured while handling the file - {file_name} : {e} \")\n",
    "        print(f\"An error occured please check file_error.log for details\") \n",
    "\n",
    "read_file(\"nofile.txt\")    "
   ]
  },
  {
   "cell_type": "code",
   "execution_count": null,
   "id": "797f9909-730b-4ce4-88c9-ce8e14f2a5f2",
   "metadata": {},
   "outputs": [],
   "source": []
  }
 ],
 "metadata": {
  "kernelspec": {
   "display_name": "Python 3 (ipykernel)",
   "language": "python",
   "name": "python3"
  },
  "language_info": {
   "codemirror_mode": {
    "name": "ipython",
    "version": 3
   },
   "file_extension": ".py",
   "mimetype": "text/x-python",
   "name": "python",
   "nbconvert_exporter": "python",
   "pygments_lexer": "ipython3",
   "version": "3.12.7"
  }
 },
 "nbformat": 4,
 "nbformat_minor": 5
}
